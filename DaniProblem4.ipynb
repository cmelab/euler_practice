{
 "cells": [
  {
   "cell_type": "code",
   "execution_count": 2,
   "id": "084aa0de",
   "metadata": {},
   "outputs": [],
   "source": [
    "def palindromeCheck(n):\n",
    "    return str(n)\n",
    "    print(n)"
   ]
  },
  {
   "cell_type": "code",
   "execution_count": 4,
   "id": "3bf7bedf",
   "metadata": {},
   "outputs": [
    {
     "data": {
      "text/plain": [
       "'102000'"
      ]
     },
     "execution_count": 4,
     "metadata": {},
     "output_type": "execute_result"
    }
   ],
   "source": [
    "palindromeCheck(102000)\n"
   ]
  },
  {
   "cell_type": "code",
   "execution_count": null,
   "id": "6f0a476a",
   "metadata": {},
   "outputs": [],
   "source": []
  }
 ],
 "metadata": {
  "kernelspec": {
   "display_name": "Python 3 (ipykernel)",
   "language": "python",
   "name": "python3"
  },
  "language_info": {
   "codemirror_mode": {
    "name": "ipython",
    "version": 3
   },
   "file_extension": ".py",
   "mimetype": "text/x-python",
   "name": "python",
   "nbconvert_exporter": "python",
   "pygments_lexer": "ipython3",
   "version": "3.11.3"
  }
 },
 "nbformat": 4,
 "nbformat_minor": 5
}
