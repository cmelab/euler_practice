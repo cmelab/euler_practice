{
 "cells": [
  {
   "cell_type": "code",
   "execution_count": null,
   "id": "2567fa64",
   "metadata": {},
   "outputs": [],
   "source": [
    "\"\"\"\n",
    "\n",
    "The prime factors of 13195 are 5, 7, 13 and 29.\n",
    "\n",
    "What is the largest prime factor of the number 600851475143 ?\n",
    "\n",
    "\"\"\""
   ]
  },
  {
   "cell_type": "code",
   "execution_count": 42,
   "id": "cf7ca2f3",
   "metadata": {},
   "outputs": [],
   "source": [
    "x = range(2,7)\n",
    "ex_divides = []\n",
    "y = 7\n",
    "not_primes = []\n",
    "primes = []\n",
    "for i in x:\n",
    "    if y % i == 0:\n",
    "        m = i \n",
    "        print(y,\"prime\")\n",
    "    else:\n",
    "        "
   ]
  },
  {
   "cell_type": "code",
   "execution_count": null,
   "id": "80f8fd5f",
   "metadata": {},
   "outputs": [],
   "source": [
    "   # if i % i== 0:\n",
    "        #if ex_divides < 2 and ex_divides % 2 == 0:\n",
    "        #    ex_divides = new_div\n",
    "        #    print(new_div)"
   ]
  },
  {
   "cell_type": "code",
   "execution_count": 38,
   "id": "b5f8debf",
   "metadata": {},
   "outputs": [
    {
     "data": {
      "text/plain": [
       "[2639,\n",
       " 2639,\n",
       " 2639,\n",
       " 2639,\n",
       " 2639,\n",
       " 2639,\n",
       " 2639,\n",
       " 2639,\n",
       " 2639,\n",
       " 2639,\n",
       " 2639,\n",
       " 2639,\n",
       " 2639,\n",
       " 2639,\n",
       " 2639,\n",
       " 2639,\n",
       " 2639,\n",
       " 2639,\n",
       " 2639,\n",
       " 2639,\n",
       " 2639,\n",
       " 2639,\n",
       " 2639,\n",
       " 2639,\n",
       " 2639,\n",
       " 2639,\n",
       " 2639,\n",
       " 2639,\n",
       " 2639,\n",
       " 2639,\n",
       " 2639,\n",
       " 2639,\n",
       " 2639,\n",
       " 2639,\n",
       " 2639,\n",
       " 2639,\n",
       " 2639,\n",
       " 2639,\n",
       " 2639,\n",
       " 2639,\n",
       " 2639,\n",
       " 2639,\n",
       " 2639,\n",
       " 2639,\n",
       " 2639,\n",
       " 2639,\n",
       " 2639,\n",
       " 2639,\n",
       " 2639,\n",
       " 2639,\n",
       " 2639,\n",
       " 2639,\n",
       " 2639,\n",
       " 2639,\n",
       " 2639,\n",
       " 2639,\n",
       " 2639,\n",
       " 2639,\n",
       " 2639,\n",
       " 2639,\n",
       " 2639,\n",
       " 2639,\n",
       " 2639,\n",
       " 2639,\n",
       " 2639,\n",
       " 2639,\n",
       " 2639,\n",
       " 2639]"
      ]
     },
     "execution_count": 38,
     "metadata": {},
     "output_type": "execute_result"
    }
   ],
   "source": [
    "num = ex_divides\n",
    "prime = []\n",
    "for n in ex_divides:\n",
    "    if n > 1:\n",
    "        for i in range(2,n):\n",
    "            if (n % i) == 0:\n",
    "                #print(n,\"is not a prime number\")\n",
    "                #print(i,\"times\",num//i,\"is\",n)\n",
    "                break\n",
    "            else:\n",
    "                n=m\n",
    "                prime.append(m)\n",
    "                #print(n,\"is a prime number\")\n",
    "#    else:\n",
    "#        print(n,\"is not a prime number\")\n",
    "prime"
   ]
  },
  {
   "cell_type": "code",
   "execution_count": null,
   "id": "27145a01",
   "metadata": {},
   "outputs": [],
   "source": []
  }
 ],
 "metadata": {
  "kernelspec": {
   "display_name": "Python 3 (ipykernel)",
   "language": "python",
   "name": "python3"
  },
  "language_info": {
   "codemirror_mode": {
    "name": "ipython",
    "version": 3
   },
   "file_extension": ".py",
   "mimetype": "text/x-python",
   "name": "python",
   "nbconvert_exporter": "python",
   "pygments_lexer": "ipython3",
   "version": "3.9.12"
  }
 },
 "nbformat": 4,
 "nbformat_minor": 5
}
