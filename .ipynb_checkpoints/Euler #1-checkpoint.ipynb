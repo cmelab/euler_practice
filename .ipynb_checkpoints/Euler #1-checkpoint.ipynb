{
 "cells": [
  {
   "cell_type": "code",
   "execution_count": 1,
   "id": "73908ae6",
   "metadata": {},
   "outputs": [],
   "source": [
    "#import numpy as np"
   ]
  },
  {
   "cell_type": "code",
   "execution_count": 2,
   "id": "265cba91",
   "metadata": {},
   "outputs": [],
   "source": [
    "#multiples_of_3 = []\n",
    "#multiples_of_5 = []\n",
    "#all_multiples = []\n",
    "#\n",
    "#for i in range(10000):\n",
    "#    n = 3 * i\n",
    "#    if n < 1000:\n",
    "#        multiples_of_3.append(n)\n",
    "##multiples_of_3\n",
    "#\n",
    "#for i in range(10000):\n",
    "#    n = 5 * i\n",
    "#    if n < 1000:\n",
    "#        multiples_of_5.append(n)\n",
    "##multiples_of_5\n",
    "#\n",
    "#for i in multiples_of_5:\n",
    "#    add_variables = i \n",
    "#    if add_variables not in all_multiples:\n",
    "#        all_multiples.append(add_variables)\n",
    "#for i in multiples_of_3:\n",
    "#    add_variables = i \n",
    "#    if add_variables not in all_multiples:\n",
    "#        all_multiples.append(add_variables)\n",
    "#all_multiples.sort()\n",
    "##all_multiples\n",
    "#sum_of_all_multiples = sum(all_multiples)\n",
    "#print(sum_of_all_multiples)"
   ]
  },
  {
   "cell_type": "code",
   "execution_count": 3,
   "id": "6d0b6ecd",
   "metadata": {},
   "outputs": [
    {
     "name": "stdout",
     "output_type": "stream",
     "text": [
      "233168\n"
     ]
    }
   ],
   "source": [
    "all_m = []\n",
    "x = range(1000)\n",
    "for i in x:\n",
    "    if i % 3 == 0:\n",
    "        m_3 = i\n",
    "    if m_3 not in all_m:\n",
    "        all_m.append(m_3)\n",
    "for i in x:\n",
    "    if i % 5 == 0:\n",
    "        m_5 = i\n",
    "    if m_5 not in all_m:\n",
    "        all_m.append(m_5)\n",
    "all_m.sort()\n",
    "sum_multiples = sum(all_m)\n",
    "print(sum_multiples)"
   ]
  },
  {
   "cell_type": "code",
   "execution_count": null,
   "id": "e003717a",
   "metadata": {},
   "outputs": [],
   "source": []
  }
 ],
 "metadata": {
  "kernelspec": {
   "display_name": "Python 3 (ipykernel)",
   "language": "python",
   "name": "python3"
  },
  "language_info": {
   "codemirror_mode": {
    "name": "ipython",
    "version": 3
   },
   "file_extension": ".py",
   "mimetype": "text/x-python",
   "name": "python",
   "nbconvert_exporter": "python",
   "pygments_lexer": "ipython3",
   "version": "3.9.12"
  }
 },
 "nbformat": 4,
 "nbformat_minor": 5
}
