{
 "cells": [
  {
   "cell_type": "code",
   "execution_count": null,
   "id": "dbe1c4b0",
   "metadata": {},
   "outputs": [],
   "source": [
    "fib_list = [1,2]\n",
    "m = fib_list[-2]+fib_list[-1]\n",
    "for i in fib_list:\n",
    "    if m not in fib_list:\n",
    "        fib_list.append(m)\n",
    "fib_list"
   ]
  },
  {
   "cell_type": "code",
   "execution_count": 32,
   "id": "f28528e8",
   "metadata": {},
   "outputs": [],
   "source": [
    "fib_list = []\n",
    "def fibonacci(x,y):\n",
    "    if x not in fib_list:\n",
    "        fib_list.append(x)\n",
    "    if y not in fib_list:\n",
    "        fib_list.append(y)\n",
    "    m = fib_list[-2]+fib_list[-1]\n",
    "    if m not in fib_list:\n",
    "        fib_list.append(m)\n",
    "    if fib_list[-1] < 100:\n",
    "        fibonacci(fib_list[-2],fib_list[-1])\n",
    "    even_list = []\n",
    "    for i in fib_list:\n",
    "        if i % 2 == 0:\n",
    "            even_list.append(i)\n",
    "    return sum(even_list)"
   ]
  },
  {
   "cell_type": "code",
   "execution_count": 33,
   "id": "a0371225",
   "metadata": {
    "scrolled": false
   },
   "outputs": [
    {
     "data": {
      "text/plain": [
       "188"
      ]
     },
     "execution_count": 33,
     "metadata": {},
     "output_type": "execute_result"
    }
   ],
   "source": [
    "fibonacci(1,2)"
   ]
  },
  {
   "cell_type": "code",
   "execution_count": null,
   "id": "de12483f",
   "metadata": {},
   "outputs": [],
   "source": []
  }
 ],
 "metadata": {
  "kernelspec": {
   "display_name": "Python 3 (ipykernel)",
   "language": "python",
   "name": "python3"
  },
  "language_info": {
   "codemirror_mode": {
    "name": "ipython",
    "version": 3
   },
   "file_extension": ".py",
   "mimetype": "text/x-python",
   "name": "python",
   "nbconvert_exporter": "python",
   "pygments_lexer": "ipython3",
   "version": "3.9.12"
  }
 },
 "nbformat": 4,
 "nbformat_minor": 5
}
