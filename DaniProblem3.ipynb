{
 "cells": [
  {
   "cell_type": "code",
   "execution_count": 62,
   "id": "8409b718",
   "metadata": {},
   "outputs": [],
   "source": [
    "import math"
   ]
  },
  {
   "cell_type": "code",
   "execution_count": 63,
   "id": "45684b83",
   "metadata": {},
   "outputs": [],
   "source": [
    "def findFactors(n):\n",
    "    factors = []\n",
    "    sqrt_n = int(math.sqrt(n)) + 1\n",
    "    for i in range(2,sqrt_n):\n",
    "        if n % i == 0:\n",
    "            factors.append(i)\n",
    "    return factors\n",
    "def primeFactorteller(n):\n",
    "    i = 2\n",
    "    while i != n:\n",
    "        if n % i == 0:\n",
    "            return False\n",
    "        else:\n",
    "            i += 1            \n",
    "    return True"
   ]
  },
  {
   "cell_type": "code",
   "execution_count": 64,
   "id": "7d1f5e02",
   "metadata": {},
   "outputs": [],
   "source": [
    "import time"
   ]
  },
  {
   "cell_type": "code",
   "execution_count": 81,
   "id": "d9e80808",
   "metadata": {},
   "outputs": [
    {
     "name": "stdout",
     "output_type": "stream",
     "text": [
      "Biggest factors for input: [71, 839, 1471, 6857, 59569, 104441, 486847]\n",
      "Largest prime factor of input: 6857\n",
      "Runtime of this cell: 0.06194353103637695 seconds\n"
     ]
    }
   ],
   "source": [
    "start = time.time()\n",
    "pflist = []\n",
    "factorslist = findFactors(600851475143)\n",
    "print(\"Biggest factors for input:\",factorslist)\n",
    "for num in factorslist:\n",
    "    if primeFactorteller(num) == True:\n",
    "        pflist.append(num)\n",
    "end = time.time()\n",
    "print(\"Largest prime factor of input:\", pflist[-1])\n",
    "print(\"Runtime of this cell:\", end - start, \"seconds\")"
   ]
  }
 ],
 "metadata": {
  "kernelspec": {
   "display_name": "Python 3 (ipykernel)",
   "language": "python",
   "name": "python3"
  },
  "language_info": {
   "codemirror_mode": {
    "name": "ipython",
    "version": 3
   },
   "file_extension": ".py",
   "mimetype": "text/x-python",
   "name": "python",
   "nbconvert_exporter": "python",
   "pygments_lexer": "ipython3",
   "version": "3.11.3"
  }
 },
 "nbformat": 4,
 "nbformat_minor": 5
}
