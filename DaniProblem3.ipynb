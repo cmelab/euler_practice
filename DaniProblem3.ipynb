{
 "cells": [
  {
   "cell_type": "code",
   "execution_count": null,
   "id": "8409b718",
   "metadata": {},
   "outputs": [],
   "source": [
    "def findFactors(n):\n",
    "    factors = []\n",
    "    for i in range(2,n):\n",
    "        if n % i == 0:\n",
    "            factors.append(i)\n",
    "    return factors\n",
    "def primeFactorteller(n):\n",
    "    i = 2\n",
    "    while i != n:\n",
    "        if n % i == 0:\n",
    "            return False\n",
    "        else:\n",
    "            i += 1            \n",
    "    return True"
   ]
  },
  {
   "cell_type": "code",
   "execution_count": null,
   "id": "d9e80808",
   "metadata": {},
   "outputs": [],
   "source": [
    "factorslist = findFactors(600851475143)\n",
    "print(factorslist)\n",
    "for num in factorslist:\n",
    "    if primeFactorteller(num) == True:\n",
    "        print(num)"
   ]
  }
 ],
 "metadata": {
  "kernelspec": {
   "display_name": "Python 3 (ipykernel)",
   "language": "python",
   "name": "python3"
  },
  "language_info": {
   "codemirror_mode": {
    "name": "ipython",
    "version": 3
   },
   "file_extension": ".py",
   "mimetype": "text/x-python",
   "name": "python",
   "nbconvert_exporter": "python",
   "pygments_lexer": "ipython3",
   "version": "3.11.0"
  }
 },
 "nbformat": 4,
 "nbformat_minor": 5
}
